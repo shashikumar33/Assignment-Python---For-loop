{
 "cells": [
  {
   "cell_type": "code",
   "execution_count": 1,
   "id": "204b779d-4146-46ae-860e-18264975117e",
   "metadata": {},
   "outputs": [],
   "source": [
    "#Basic Level:"
   ]
  },
  {
   "cell_type": "code",
   "execution_count": 2,
   "id": "6ff9213b-cb67-4abf-93c6-aff0aefac721",
   "metadata": {},
   "outputs": [
    {
     "data": {
      "text/plain": [
       "'1. Write a Python program to print the numbers from 1 to 10 using a `for` loop.'"
      ]
     },
     "execution_count": 2,
     "metadata": {},
     "output_type": "execute_result"
    }
   ],
   "source": [
    "\"1. Write a Python program to print the numbers from 1 to 10 using a `for` loop.\""
   ]
  },
  {
   "cell_type": "code",
   "execution_count": 4,
   "id": "ba03e423-837d-4743-9df3-d10d153d1413",
   "metadata": {},
   "outputs": [
    {
     "name": "stdout",
     "output_type": "stream",
     "text": [
      "1\n",
      "2\n",
      "3\n",
      "4\n",
      "5\n",
      "6\n",
      "7\n",
      "8\n",
      "9\n",
      "10\n"
     ]
    }
   ],
   "source": [
    "num = 10\n",
    "for i in range(1,num+1):\n",
    "    print(i)"
   ]
  },
  {
   "cell_type": "code",
   "execution_count": 5,
   "id": "b0374be4-28c8-4c76-a82c-02d9f9207468",
   "metadata": {},
   "outputs": [
    {
     "data": {
      "text/plain": [
       "'2. Create a program that calculates the sum of all numbers in a list using a `for` loop.'"
      ]
     },
     "execution_count": 5,
     "metadata": {},
     "output_type": "execute_result"
    }
   ],
   "source": [
    "\"2. Create a program that calculates the sum of all numbers in a list using a `for` loop.\""
   ]
  },
  {
   "cell_type": "code",
   "execution_count": null,
   "id": "e60591e4-28c9-4d3e-bec2-c9cec4ecf572",
   "metadata": {},
   "outputs": [],
   "source": [
    "my_list=[1,2,3,4,5]\n",
    "add=0\n",
    "for i in my_list:\n",
    "    add=add+i\n",
    "print(add)"
   ]
  },
  {
   "cell_type": "code",
   "execution_count": 2,
   "id": "c53ba709-8e57-46ec-abd5-054d22503ce9",
   "metadata": {},
   "outputs": [
    {
     "data": {
      "text/plain": [
       "'3. Write a program to print the characters of a string in reverse order using a `for` loop.'"
      ]
     },
     "execution_count": 2,
     "metadata": {},
     "output_type": "execute_result"
    }
   ],
   "source": [
    "\"3. Write a program to print the characters of a string in reverse order using a `for` loop.\""
   ]
  },
  {
   "cell_type": "code",
   "execution_count": 5,
   "id": "a42d7296-bfa0-45c5-a5aa-d35faca74b48",
   "metadata": {},
   "outputs": [
    {
     "name": "stdin",
     "output_type": "stream",
     "text": [
      "Enter a string:  pwskills\n"
     ]
    },
    {
     "name": "stdout",
     "output_type": "stream",
     "text": [
      "Reversed string: sllikswp\n"
     ]
    }
   ],
   "source": [
    "# Input string\n",
    "input_string = input(\"Enter a string: \")\n",
    "\n",
    "# Initialize a variable to store the reversed string\n",
    "reversed_string = \"\"\n",
    "\n",
    "# Iterate through the string in reverse order\n",
    "for i in range(len(input_string) - 1, -1,-1):\n",
    "    reversed_string += input_string[i]\n",
    "\n",
    "# Print the reversed string\n",
    "print(\"Reversed string:\", reversed_string)\n"
   ]
  },
  {
   "cell_type": "code",
   "execution_count": 6,
   "id": "71720965-09bf-4e1a-9263-0c335c78d3bb",
   "metadata": {},
   "outputs": [
    {
     "data": {
      "text/plain": [
       "'4. Develop a program that finds the factorial of a given number using a `for` loop'"
      ]
     },
     "execution_count": 6,
     "metadata": {},
     "output_type": "execute_result"
    }
   ],
   "source": [
    "\"4. Develop a program that finds the factorial of a given number using a `for` loop\""
   ]
  },
  {
   "cell_type": "code",
   "execution_count": 7,
   "id": "5baf2bd7-b414-4a4e-89ba-e24978e97264",
   "metadata": {},
   "outputs": [
    {
     "name": "stdin",
     "output_type": "stream",
     "text": [
      "enter a number 5\n"
     ]
    },
    {
     "name": "stdout",
     "output_type": "stream",
     "text": [
      "120\n"
     ]
    }
   ],
   "source": [
    "num = int(input(\"enter a number\"))\n",
    "fact=1\n",
    "for i in range(1,num+1):\n",
    "    fact = fact*i\n",
    "print(fact)"
   ]
  },
  {
   "cell_type": "code",
   "execution_count": 8,
   "id": "3ef5b43b-44df-4d87-a3f7-9b32a836178f",
   "metadata": {},
   "outputs": [
    {
     "data": {
      "text/plain": [
       "'5. Create a program to print the multiplication table of a given number using a `for` loop.'"
      ]
     },
     "execution_count": 8,
     "metadata": {},
     "output_type": "execute_result"
    }
   ],
   "source": [
    "\"5. Create a program to print the multiplication table of a given number using a `for` loop.\""
   ]
  },
  {
   "cell_type": "code",
   "execution_count": 2,
   "id": "4999e54a-22e9-476a-89f7-a7a05b27d59b",
   "metadata": {},
   "outputs": [
    {
     "name": "stdin",
     "output_type": "stream",
     "text": [
      "enter a number for multiplication 5\n"
     ]
    },
    {
     "name": "stdout",
     "output_type": "stream",
     "text": [
      "5 * 1 = 5 \n",
      "5 * 2 = 10 \n",
      "5 * 3 = 15 \n",
      "5 * 4 = 20 \n",
      "5 * 5 = 25 \n",
      "5 * 6 = 30 \n",
      "5 * 7 = 35 \n",
      "5 * 8 = 40 \n",
      "5 * 9 = 45 \n",
      "5 * 10 = 50 \n"
     ]
    }
   ],
   "source": [
    "num = int(input(\"enter a number for multiplication\"))\n",
    "for i in range(1,11):\n",
    "    multiply=num*i\n",
    "    print(f\"{num} * {i} = {multiply} \")"
   ]
  },
  {
   "cell_type": "code",
   "execution_count": 3,
   "id": "838e6498-3ec2-425d-8e1d-4103bfca74bd",
   "metadata": {},
   "outputs": [
    {
     "data": {
      "text/plain": [
       "'6. Write a program that counts the number of even and odd numbers in a list using a `for` loop.'"
      ]
     },
     "execution_count": 3,
     "metadata": {},
     "output_type": "execute_result"
    }
   ],
   "source": [
    "\"6. Write a program that counts the number of even and odd numbers in a list using a `for` loop.\""
   ]
  },
  {
   "cell_type": "code",
   "execution_count": 4,
   "id": "e502fc36-01f5-4d94-9616-c30ef5389934",
   "metadata": {},
   "outputs": [
    {
     "name": "stdout",
     "output_type": "stream",
     "text": [
      " the total even number is 4\n",
      "the total odd number is  5\n"
     ]
    }
   ],
   "source": [
    "my_list=[1,2,3,4,5,6,7,8,9]\n",
    "even_count=0\n",
    "odd_count=0\n",
    "for i in my_list:\n",
    "    if i%2==0:\n",
    "        even_count+=1\n",
    "    else:\n",
    "        odd_count+=1\n",
    "print(f\" the total even number is {even_count}\")\n",
    "print(\"the total odd number is \" , odd_count)"
   ]
  },
  {
   "cell_type": "code",
   "execution_count": 5,
   "id": "63142a9a-cab6-43dc-853f-c043d82c483c",
   "metadata": {},
   "outputs": [
    {
     "data": {
      "text/plain": [
       "'7. Develop a program that prints the squares of numbers from 1 to 5 using a `for` loop'"
      ]
     },
     "execution_count": 5,
     "metadata": {},
     "output_type": "execute_result"
    }
   ],
   "source": [
    "\"7. Develop a program that prints the squares of numbers from 1 to 5 using a `for` loop\""
   ]
  },
  {
   "cell_type": "code",
   "execution_count": 6,
   "id": "1bcf39de-ad95-4321-aea0-23da1bfd0c61",
   "metadata": {},
   "outputs": [
    {
     "name": "stdout",
     "output_type": "stream",
     "text": [
      "1\n",
      "4\n",
      "9\n",
      "16\n",
      "25\n"
     ]
    }
   ],
   "source": [
    "num = 5\n",
    "for i in range(1,num+1):\n",
    "    square=i*i\n",
    "    print(square)"
   ]
  },
  {
   "cell_type": "code",
   "execution_count": 7,
   "id": "eb0986f8-6431-4e2a-9bbf-666f625f7e52",
   "metadata": {},
   "outputs": [
    {
     "data": {
      "text/plain": [
       "'8. Create a program to find the length of a string without using the `len()` function.'"
      ]
     },
     "execution_count": 7,
     "metadata": {},
     "output_type": "execute_result"
    }
   ],
   "source": [
    "\"8. Create a program to find the length of a string without using the `len()` function.\""
   ]
  },
  {
   "cell_type": "code",
   "execution_count": 21,
   "id": "76120b0a-8c61-4c8b-861a-73bf356f7c37",
   "metadata": {},
   "outputs": [
    {
     "name": "stdout",
     "output_type": "stream",
     "text": [
      "the lenght of string is  21\n"
     ]
    }
   ],
   "source": [
    "my_string = \"i am a student of pwskills\"\n",
    "string=my_string.replace(\" \",\"\")\n",
    "count=0\n",
    "for i in string:\n",
    "    count+=1\n",
    "print(\"the lenght of string is \" , count)"
   ]
  },
  {
   "cell_type": "code",
   "execution_count": 23,
   "id": "404dfda8-049b-4f78-85aa-e2d6da3a64ea",
   "metadata": {},
   "outputs": [
    {
     "data": {
      "text/plain": [
       "'9. Write a program that calculates the average of a list of numbers using a `for` loop.'"
      ]
     },
     "execution_count": 23,
     "metadata": {},
     "output_type": "execute_result"
    }
   ],
   "source": [
    "\"9. Write a program that calculates the average of a list of numbers using a `for` loop.\""
   ]
  },
  {
   "cell_type": "code",
   "execution_count": 27,
   "id": "15addd3d-70f8-4eab-b9f0-0a011bd93ae8",
   "metadata": {},
   "outputs": [
    {
     "name": "stdout",
     "output_type": "stream",
     "text": [
      "average 6.0\n"
     ]
    }
   ],
   "source": [
    "my_list=[1,2,3,4,5,6,7,8,9,10,11]\n",
    "total = 0\n",
    "count = 0\n",
    "for i in my_list:\n",
    "    total+=i\n",
    "    count+=1\n",
    "if count>0:\n",
    "    average=total/count\n",
    "    print(\"average\" , average)\n",
    "else:\n",
    "    print(\"enter a more than one positive value\")"
   ]
  },
  {
   "cell_type": "code",
   "execution_count": 28,
   "id": "e4ecfa30-badd-4250-a0b7-05989f92ffc8",
   "metadata": {},
   "outputs": [
    {
     "data": {
      "text/plain": [
       "'10. Develop a program that prints the first `n` Fibonacci numbers using a `for` loop.'"
      ]
     },
     "execution_count": 28,
     "metadata": {},
     "output_type": "execute_result"
    }
   ],
   "source": [
    "\"10. Develop a program that prints the first `n` Fibonacci numbers using a `for` loop.\""
   ]
  },
  {
   "cell_type": "code",
   "execution_count": 45,
   "id": "b96d8699-6252-4ff3-9206-3c12e0afbb41",
   "metadata": {},
   "outputs": [
    {
     "name": "stdin",
     "output_type": "stream",
     "text": [
      "enter a number for fibonacci_sequence 8\n"
     ]
    },
    {
     "name": "stdout",
     "output_type": "stream",
     "text": [
      "the first 8 fibonacci number are:\n",
      "0  1  1  2  3  5  8  13  "
     ]
    }
   ],
   "source": [
    "def fibonacci_number(n):\n",
    "    if n<=0:\n",
    "        return []\n",
    "    fibonacci_sequence=[0,1]\n",
    "    if n==1:\n",
    "        return [0]\n",
    "    for i in range(2,n):\n",
    "        next_fibonacci = fibonacci_sequence[-1] + fibonacci_sequence[-2]\n",
    "        fibonacci_sequence.append(next_fibonacci)\n",
    "    return fibonacci_sequence\n",
    "n = int(input(\"enter a number for fibonacci_sequence\"))\n",
    "if n < 1:\n",
    "    print(\"please enter a positive value\")\n",
    "else:\n",
    "    result=fibonacci_number(n)\n",
    "    print(f\"the first {n} fibonacci number are:\")\n",
    "    for num in result:\n",
    "        print(num , end=\"  \")"
   ]
  },
  {
   "cell_type": "code",
   "execution_count": 46,
   "id": "dafe0096-e05a-4417-a114-7cfe5bb6c40d",
   "metadata": {},
   "outputs": [],
   "source": [
    "# Intermediate Level:"
   ]
  },
  {
   "cell_type": "code",
   "execution_count": 47,
   "id": "e7fe419e-0079-4846-835e-1c2c06e37d46",
   "metadata": {},
   "outputs": [
    {
     "data": {
      "text/plain": [
       "'11. Write a program to check if a given list contains any duplicates using a `for` loop.'"
      ]
     },
     "execution_count": 47,
     "metadata": {},
     "output_type": "execute_result"
    }
   ],
   "source": [
    "\"11. Write a program to check if a given list contains any duplicates using a `for` loop.\""
   ]
  },
  {
   "cell_type": "code",
   "execution_count": 49,
   "id": "616f963f-2d6f-4088-ae9a-44f907a253b0",
   "metadata": {},
   "outputs": [
    {
     "name": "stdout",
     "output_type": "stream",
     "text": [
      "the list have a duplicates value\n"
     ]
    }
   ],
   "source": [
    "def has_duplictes(input_list):\n",
    "    for i in range(len(input_list)):\n",
    "        for j in range(i+1,len(input_list)):\n",
    "            if input_list[i]==input_list[j]:\n",
    "                return True\n",
    "                \n",
    "    return False\n",
    "my_list=[1,2,3,4,5,3]\n",
    "has_duplicates_result=has_duplictes(my_list)\n",
    "if has_duplicates_result:\n",
    "    print(\"the list have a duplicates value\")\n",
    "else:\n",
    "    print(\"no duplicate value\")"
   ]
  },
  {
   "cell_type": "code",
   "execution_count": 50,
   "id": "b128ea93-0a9a-4166-8248-528f0bc6fd0b",
   "metadata": {},
   "outputs": [
    {
     "data": {
      "text/plain": [
       "'12. Create a program that prints the prime numbers in a given range using a `for` loop'"
      ]
     },
     "execution_count": 50,
     "metadata": {},
     "output_type": "execute_result"
    }
   ],
   "source": [
    "\"12. Create a program that prints the prime numbers in a given range using a `for` loop\""
   ]
  },
  {
   "cell_type": "code",
   "execution_count": 60,
   "id": "ed24ed5e-34e7-4382-9d25-e71c2955ca58",
   "metadata": {},
   "outputs": [
    {
     "name": "stdin",
     "output_type": "stream",
     "text": [
      "enter a lower limit 2\n",
      "enter a upper limit 100\n"
     ]
    },
    {
     "name": "stdout",
     "output_type": "stream",
     "text": [
      "the prime num in a range of 2 to 100 is : \n",
      "2  3  5  7  11  13  17  19  23  29  31  37  41  43  47  53  59  61  67  71  73  79  83  89  97  "
     ]
    }
   ],
   "source": [
    "def prime_number(lower_limit,upper_limit):\n",
    "    prime_number_list=[]\n",
    "    for i in range(lower_limit,upper_limit+1):\n",
    "        if i>0:\n",
    "            for j in range(2,i):\n",
    "                if i%j==0:\n",
    "                    break\n",
    "            else:\n",
    "                prime_number_list.append(i)\n",
    "    return prime_number_list\n",
    "lower_limit=int(input(\"enter a lower limit\"))\n",
    "upper_limit=int(input(\"enter a upper limit\"))\n",
    "result=prime_number(lower_limit,upper_limit)\n",
    "print(f\"the prime num in a range of {lower_limit} to {upper_limit} is : \")\n",
    "for num in result:\n",
    "    print(num , end=\"  \")"
   ]
  },
  {
   "cell_type": "code",
   "execution_count": 61,
   "id": "7ef5593c-0dff-4853-952d-50d155f32bd8",
   "metadata": {},
   "outputs": [
    {
     "data": {
      "text/plain": [
       "'13. Develop a program that counts the number of vowels in a string using a `for` loop.'"
      ]
     },
     "execution_count": 61,
     "metadata": {},
     "output_type": "execute_result"
    }
   ],
   "source": [
    "\"13. Develop a program that counts the number of vowels in a string using a `for` loop.\""
   ]
  },
  {
   "cell_type": "code",
   "execution_count": 1,
   "id": "8916d5a2-7fe9-4a84-b278-32d676d4c096",
   "metadata": {},
   "outputs": [
    {
     "name": "stdout",
     "output_type": "stream",
     "text": [
      "the total number of vowel is : 5\n"
     ]
    }
   ],
   "source": [
    "my_string=\"my name is shashi\"\n",
    "new_string=my_string.lower()\n",
    "vowel=\"aioue\"\n",
    "count=0\n",
    "for char in new_string:\n",
    "    if char in vowel:\n",
    "        count+=1\n",
    "print(\"the total number of vowel is :\",count)"
   ]
  },
  {
   "cell_type": "code",
   "execution_count": 2,
   "id": "fb86c9b7-cb7b-4a5a-b10e-b29965b18270",
   "metadata": {},
   "outputs": [
    {
     "data": {
      "text/plain": [
       "'14. Write a program to find the maximum element in a 2D list using a nested `for` loop.'"
      ]
     },
     "execution_count": 2,
     "metadata": {},
     "output_type": "execute_result"
    }
   ],
   "source": [
    "\"14. Write a program to find the maximum element in a 2D list using a nested `for` loop.\""
   ]
  },
  {
   "cell_type": "code",
   "execution_count": 8,
   "id": "74a8e3a4-61a7-43e4-8e35-8d8a6f216b13",
   "metadata": {},
   "outputs": [
    {
     "name": "stdout",
     "output_type": "stream",
     "text": [
      "89\n"
     ]
    }
   ],
   "source": [
    "def max_2d_element(input_2d_list):\n",
    "    if not input_2d_list:\n",
    "        return None\n",
    "    max_element_in_2d=input_2d_list[0][0]\n",
    "    for row in input_2d_list:\n",
    "        for element in row:\n",
    "            if element>max_element_in_2d :\n",
    "                max_element_in_2d=element\n",
    "    return max_element_in_2d\n",
    "sample_2d_list=[\n",
    "    [15,10,5],\n",
    "    [16,3,15],\n",
    "    [34,7,89]\n",
    "]\n",
    "max_value=max_2d_element(sample_2d_list)\n",
    "print(max_value)"
   ]
  },
  {
   "cell_type": "code",
   "execution_count": 9,
   "id": "ca0be934-3a93-4e48-8399-bd78d734b808",
   "metadata": {},
   "outputs": [
    {
     "data": {
      "text/plain": [
       "'15. Create a program that removes all occurrences of a specific element from a list using a `for` loop.'"
      ]
     },
     "execution_count": 9,
     "metadata": {},
     "output_type": "execute_result"
    }
   ],
   "source": [
    "\"15. Create a program that removes all occurrences of a specific element from a list using a `for` loop.\""
   ]
  },
  {
   "cell_type": "code",
   "execution_count": 12,
   "id": "213de300-098b-4bef-8e0e-5e5dd7ab8182",
   "metadata": {},
   "outputs": [
    {
     "name": "stdout",
     "output_type": "stream",
     "text": [
      "list after remoning of all occurrence of 2 is [1, 3, 4]\n"
     ]
    }
   ],
   "source": [
    "def remove_all_occurrence(input_list,remove_element):\n",
    "    updated_list=[]\n",
    "    for element in input_list:\n",
    "        if element != remove_element :\n",
    "            updated_list.append(element)\n",
    "    return updated_list\n",
    "input_list=[1,2,2,2,3,2,4,2]\n",
    "remove_element=2\n",
    "result=remove_all_occurrence(input_list,remove_element)\n",
    "print(f\"list after remoning of all occurrence of {remove_element} is {result}\")"
   ]
  },
  {
   "cell_type": "code",
   "execution_count": 13,
   "id": "458e9b4f-b26c-4b79-9114-6ad87ea56183",
   "metadata": {},
   "outputs": [
    {
     "data": {
      "text/plain": [
       "'16. Develop a program that generates a multiplication table for numbers from 1 to 5 using a nested `for` loop'"
      ]
     },
     "execution_count": 13,
     "metadata": {},
     "output_type": "execute_result"
    }
   ],
   "source": [
    "\"16. Develop a program that generates a multiplication table for numbers from 1 to 5 using a nested `for` loop\""
   ]
  },
  {
   "cell_type": "code",
   "execution_count": 17,
   "id": "c3eb4844-8b85-4ea9-a73f-57703127d6a1",
   "metadata": {},
   "outputs": [
    {
     "name": "stdout",
     "output_type": "stream",
     "text": [
      "1 * 1 = 1\n",
      "1 * 2 = 2\n",
      "1 * 3 = 3\n",
      "1 * 4 = 4\n",
      "1 * 5 = 5\n",
      "1 * 6 = 6\n",
      "1 * 7 = 7\n",
      "1 * 8 = 8\n",
      "1 * 9 = 9\n",
      "1 * 10 = 10\n",
      "\n",
      "2 * 1 = 2\n",
      "2 * 2 = 4\n",
      "2 * 3 = 6\n",
      "2 * 4 = 8\n",
      "2 * 5 = 10\n",
      "2 * 6 = 12\n",
      "2 * 7 = 14\n",
      "2 * 8 = 16\n",
      "2 * 9 = 18\n",
      "2 * 10 = 20\n",
      "\n",
      "3 * 1 = 3\n",
      "3 * 2 = 6\n",
      "3 * 3 = 9\n",
      "3 * 4 = 12\n",
      "3 * 5 = 15\n",
      "3 * 6 = 18\n",
      "3 * 7 = 21\n",
      "3 * 8 = 24\n",
      "3 * 9 = 27\n",
      "3 * 10 = 30\n",
      "\n",
      "4 * 1 = 4\n",
      "4 * 2 = 8\n",
      "4 * 3 = 12\n",
      "4 * 4 = 16\n",
      "4 * 5 = 20\n",
      "4 * 6 = 24\n",
      "4 * 7 = 28\n",
      "4 * 8 = 32\n",
      "4 * 9 = 36\n",
      "4 * 10 = 40\n",
      "\n",
      "5 * 1 = 5\n",
      "5 * 2 = 10\n",
      "5 * 3 = 15\n",
      "5 * 4 = 20\n",
      "5 * 5 = 25\n",
      "5 * 6 = 30\n",
      "5 * 7 = 35\n",
      "5 * 8 = 40\n",
      "5 * 9 = 45\n",
      "5 * 10 = 50\n",
      "\n"
     ]
    }
   ],
   "source": [
    "for i in range(1,6):\n",
    "    for j in range(1,11):\n",
    "        product=i*j\n",
    "        print(f\"{i} * {j} = {product}\")\n",
    "    print() #add an a empty line to seperate a table"
   ]
  },
  {
   "cell_type": "code",
   "execution_count": 18,
   "id": "a0fec433-f9d6-47bf-a659-27a5f67183d3",
   "metadata": {},
   "outputs": [
    {
     "data": {
      "text/plain": [
       "'17. Write a program that converts a list of Fahrenheit temperatures to Celsius using a `for` loop.'"
      ]
     },
     "execution_count": 18,
     "metadata": {},
     "output_type": "execute_result"
    }
   ],
   "source": [
    "\"17. Write a program that converts a list of Fahrenheit temperatures to Celsius using a `for` loop.\""
   ]
  },
  {
   "cell_type": "code",
   "execution_count": 2,
   "id": "a1053e58-ed4d-4345-b8ed-5e3c6a8ed628",
   "metadata": {},
   "outputs": [
    {
     "name": "stdout",
     "output_type": "stream",
     "text": [
      "105°F is equal to 40.00°C\n",
      "108°F is equal to 42.00°C\n",
      "110°F is equal to 43.00°C\n",
      "120°F is equal to 48.00°C\n"
     ]
    }
   ],
   "source": [
    "def fahrenheit_temperature(fahrenheit_list):\n",
    "    \n",
    "    celsius_list=[]\n",
    "    for i in fahrenheit_list:\n",
    "        celsius_list.append((i-32)*5//9)\n",
    "    return celsius_list\n",
    "fahrenheit_list=[105,108,110,120]\n",
    "result=fahrenheit_temperature(fahrenheit_list)\n",
    "for j in range(len(fahrenheit_list)):\n",
    "    print(f\"{fahrenheit_list[j]}°F is equal to {result[j]:.2f}°C\")"
   ]
  },
  {
   "cell_type": "code",
   "execution_count": 3,
   "id": "53969278-c85f-4330-864c-2f1cbb1f7d58",
   "metadata": {},
   "outputs": [
    {
     "data": {
      "text/plain": [
       "'18. Create a program to print the common elements from two lists using a `for` loop.'"
      ]
     },
     "execution_count": 3,
     "metadata": {},
     "output_type": "execute_result"
    }
   ],
   "source": [
    "\"18. Create a program to print the common elements from two lists using a `for` loop.\""
   ]
  },
  {
   "cell_type": "code",
   "execution_count": 6,
   "id": "7bf43743-6cff-4d7e-ab2b-c8f3d389bb9e",
   "metadata": {},
   "outputs": [
    {
     "name": "stdout",
     "output_type": "stream",
     "text": [
      "the common element b/w two list are: [3, 4, 5]\n"
     ]
    }
   ],
   "source": [
    "def print_common_element(list1,list2):\n",
    "    common_list=[]\n",
    "    for i in list1:\n",
    "        for j in list2:\n",
    "            if i==j:\n",
    "                common_list.append(i)\n",
    "    return common_list\n",
    "list1=[1,2,3,4,5]\n",
    "list2=[3,4,5,6,7]\n",
    "result=print_common_element(list1,list2)\n",
    "print(f\"the common element b/w two list are: {result}\")"
   ]
  },
  {
   "cell_type": "code",
   "execution_count": 7,
   "id": "3a9bf8a3-2e94-488f-8305-015a64e3d48b",
   "metadata": {},
   "outputs": [
    {
     "data": {
      "text/plain": [
       "'19. Develop a program that prints the pattern of right-angled triangles using a `for` loop. Use ‘*’ to draw the \\npattern'"
      ]
     },
     "execution_count": 7,
     "metadata": {},
     "output_type": "execute_result"
    }
   ],
   "source": [
    "\"\"\"19. Develop a program that prints the pattern of right-angled triangles using a `for` loop. Use ‘*’ to draw the \n",
    "pattern\"\"\""
   ]
  },
  {
   "cell_type": "code",
   "execution_count": 9,
   "id": "3414ebbb-ef8b-4b50-929d-c3f9ec0e612b",
   "metadata": {},
   "outputs": [
    {
     "name": "stdin",
     "output_type": "stream",
     "text": [
      "enter a number of row 5\n"
     ]
    },
    {
     "name": "stdout",
     "output_type": "stream",
     "text": [
      "* \n",
      "* * \n",
      "* * * \n",
      "* * * * \n",
      "* * * * * \n"
     ]
    }
   ],
   "source": [
    "num=int(input(\"enter a number of row\"))\n",
    "for i in range(1,num+1):\n",
    "    for j in range(1,i+1):\n",
    "        print(\"*\" , end=\" \")\n",
    "    print()"
   ]
  },
  {
   "cell_type": "code",
   "execution_count": 10,
   "id": "3b327319-c756-4bec-b1ca-d909c3df1a32",
   "metadata": {},
   "outputs": [
    {
     "data": {
      "text/plain": [
       "'20. Write a program to find the greatest common divisor (GCD) of two numbers using a `for` loop.'"
      ]
     },
     "execution_count": 10,
     "metadata": {},
     "output_type": "execute_result"
    }
   ],
   "source": [
    "\"20. Write a program to find the greatest common divisor (GCD) of two numbers using a `for` loop.\""
   ]
  },
  {
   "cell_type": "code",
   "execution_count": 11,
   "id": "c7265cc5-7a11-4610-9ac4-be4210132652",
   "metadata": {},
   "outputs": [
    {
     "name": "stdin",
     "output_type": "stream",
     "text": [
      "enter a first number 12\n",
      "enter a second number 24\n"
     ]
    },
    {
     "name": "stdout",
     "output_type": "stream",
     "text": [
      "The greatest common divisor is 12\n"
     ]
    }
   ],
   "source": [
    "num1=int(input(\"enter a first number\"))\n",
    "num2=int(input(\"enter a second number\"))\n",
    "if num1<num2:\n",
    "    mn=num1\n",
    "else:\n",
    "    mn=num2\n",
    "for i in range(1,mn+1):\n",
    "    if num1%i==0 and num2%i==0:\n",
    "        GCD=i\n",
    "print(\"The greatest common divisor is\", GCD)"
   ]
  },
  {
   "cell_type": "code",
   "execution_count": 12,
   "id": "71b2ec2d-90c1-4ebd-9b7d-ff139d388962",
   "metadata": {},
   "outputs": [],
   "source": [
    "#Advanced Level:"
   ]
  },
  {
   "cell_type": "code",
   "execution_count": 13,
   "id": "af3eff44-1275-4031-8f7a-962c6e64f538",
   "metadata": {},
   "outputs": [
    {
     "data": {
      "text/plain": [
       "'21. Create a program that calculates the sum of the digits of numbers in a list using a list comprehension'"
      ]
     },
     "execution_count": 13,
     "metadata": {},
     "output_type": "execute_result"
    }
   ],
   "source": [
    "\"21. Create a program that calculates the sum of the digits of numbers in a list using a list comprehension\""
   ]
  },
  {
   "cell_type": "code",
   "execution_count": 32,
   "id": "4e63a259-5555-4dd4-a4f3-b46f07714833",
   "metadata": {},
   "outputs": [
    {
     "name": "stdout",
     "output_type": "stream",
     "text": [
      "the sum of digit is : 15\n"
     ]
    }
   ],
   "source": [
    "my_list=[1,2,3,4,5]\n",
    "add=[sum(int(x) for x in str(i)) for i in my_list]\n",
    "total=sum(add)\n",
    "print(\"the sum of digit is :\",total)\n"
   ]
  },
  {
   "cell_type": "code",
   "execution_count": 33,
   "id": "162e99c9-9dfa-44af-b86a-e5c39ddf5807",
   "metadata": {},
   "outputs": [
    {
     "data": {
      "text/plain": [
       "'22. Write a program to find the prime factors of a given number using a `for` loop and list comprehension'"
      ]
     },
     "execution_count": 33,
     "metadata": {},
     "output_type": "execute_result"
    }
   ],
   "source": [
    "\"22. Write a program to find the prime factors of a given number using a `for` loop and list comprehension\""
   ]
  },
  {
   "cell_type": "code",
   "execution_count": 5,
   "id": "814ca09c-c4e2-4876-97e4-51684830a01f",
   "metadata": {},
   "outputs": [
    {
     "name": "stdin",
     "output_type": "stream",
     "text": [
      "enter a number 44\n"
     ]
    },
    {
     "name": "stdout",
     "output_type": "stream",
     "text": [
      "the prime factor of given number is [2, 11]\n"
     ]
    }
   ],
   "source": [
    "def prime_factor(n):\n",
    "    factor=[x for x in range(2,n+1) if n%x==0]\n",
    "    prime_factor=[x for x in factor if all(x%y!=0 for y in range (2,x))]\n",
    "    return prime_factor\n",
    "\n",
    "num = int(input(\"enter a number\"))\n",
    "if num<=1:\n",
    "    print(\"please enter a value greater then 1\")\n",
    "else:\n",
    "    factors=prime_factor(num)\n",
    "    print(f\"the prime factor of given number is {factors}\")"
   ]
  },
  {
   "cell_type": "code",
   "execution_count": 6,
   "id": "057f4e60-07e7-4058-b9cd-1d148c8f387a",
   "metadata": {},
   "outputs": [
    {
     "data": {
      "text/plain": [
       "'23. Develop a program that extracts unique elements from a list and stores them in a new list using a list \\ncomprehension'"
      ]
     },
     "execution_count": 6,
     "metadata": {},
     "output_type": "execute_result"
    }
   ],
   "source": [
    "\"\"\"23.  using a list \n",
    "comprehension\"Develop a program that extracts unique elements from a list and stores them in a new list\"\""
   ]
  },
  {
   "cell_type": "code",
   "execution_count": 25,
   "id": "85188b2a-8456-471f-88de-548269c7222e",
   "metadata": {},
   "outputs": [
    {
     "name": "stdout",
     "output_type": "stream",
     "text": [
      "orignal list [1, 2, 2, 3, 4, 4]\n",
      "unique list are:  [1, 3]\n"
     ]
    }
   ],
   "source": [
    "my_list=[1,2,2,3,4,4]\n",
    "unique_list=[x for x in my_list if my_list.count(x)==1]\n",
    "print(\"orignal list\",my_list)\n",
    "print(\"unique list are: \",unique_list)"
   ]
  },
  {
   "cell_type": "code",
   "execution_count": 1,
   "id": "9c43fa39-c22a-4618-a0b3-1a2f0000e803",
   "metadata": {},
   "outputs": [
    {
     "data": {
      "text/plain": [
       "' 24. Create a program that generates a list of all palindromic numbers up to a specified limit using a list \\ncomprehension.'"
      ]
     },
     "execution_count": 1,
     "metadata": {},
     "output_type": "execute_result"
    }
   ],
   "source": [
    "\"\"\" 24. Create a program that generates a list of all palindromic numbers up to a specified limit using a list \n",
    "comprehension.\"\"\""
   ]
  },
  {
   "cell_type": "code",
   "execution_count": 4,
   "id": "865b4ca1-7429-4cd2-884e-e235ba624cf6",
   "metadata": {},
   "outputs": [
    {
     "name": "stdin",
     "output_type": "stream",
     "text": [
      "enter a limit 50\n"
     ]
    },
    {
     "name": "stdout",
     "output_type": "stream",
     "text": [
      "the palidromic number upto given 50 are [1, 2, 3, 4, 5, 6, 7, 8, 9, 11, 22, 33, 44]\n"
     ]
    }
   ],
   "source": [
    "def is_palindrome(number):\n",
    "    return str(number)==str(number)[::-1]\n",
    "def generate_palindromic_number(limit):\n",
    "    return [num for num in range(1,limit+1) if is_palindrome(num)]\n",
    "limit=int(input(\"enter a limit\"))\n",
    "palindromic_number=generate_palindromic_number(limit)\n",
    "print(f\"the palidromic number upto given {limit} are {palindromic_number}\")"
   ]
  },
  {
   "cell_type": "code",
   "execution_count": 5,
   "id": "c8b58d6b-0c59-4ab8-a2c6-500db843ac06",
   "metadata": {},
   "outputs": [
    {
     "data": {
      "text/plain": [
       "'25. Write a program to flatten a nested list using list comprehension.'"
      ]
     },
     "execution_count": 5,
     "metadata": {},
     "output_type": "execute_result"
    }
   ],
   "source": [
    "\"25. Write a program to flatten a nested list using list comprehension.\""
   ]
  },
  {
   "cell_type": "code",
   "execution_count": 6,
   "id": "b74d2f64-4a33-4d47-93df-ddfc76b80734",
   "metadata": {},
   "outputs": [
    {
     "name": "stdout",
     "output_type": "stream",
     "text": [
      "the flatten list are: [1, 2, 3, 4, 5]\n"
     ]
    }
   ],
   "source": [
    "def flatten_nested_list(nested_list):\n",
    "    return [item for sublist in nested_list for item in sublist]\n",
    "nested_list=[[1,2,3],[4,5]]\n",
    "flatten_list=flatten_nested_list(nested_list)\n",
    "print(\"the flatten list are:\" , flatten_list)"
   ]
  },
  {
   "cell_type": "code",
   "execution_count": 4,
   "id": "ebf716eb-e1f4-4808-b458-0ceeda05d61f",
   "metadata": {},
   "outputs": [
    {
     "data": {
      "text/plain": [
       "'26. Develop a program that computes the sum of even and odd numbers in a list separately using list \\ncomprehension'"
      ]
     },
     "execution_count": 4,
     "metadata": {},
     "output_type": "execute_result"
    }
   ],
   "source": [
    "'''26. Develop a program that computes the sum of even and odd numbers in a list separately using list \n",
    "comprehension'''"
   ]
  },
  {
   "cell_type": "code",
   "execution_count": 2,
   "id": "0e524171-c3d5-4555-a57d-bf4ec15c7380",
   "metadata": {},
   "outputs": [
    {
     "name": "stdout",
     "output_type": "stream",
     "text": [
      "even number are  [2, 4, 6, 8]\n",
      "odd number are  [1, 3, 5, 7]\n",
      "sum of even number are 20\n",
      "sum of odd number are 16\n"
     ]
    }
   ],
   "source": [
    "def sum_of_even_and_odd(my_list):\n",
    "    even_number=[x for x in my_list if x%2==0]\n",
    "    odd_number=[x for x in my_list if x%2!=0]\n",
    "    return even_number,odd_number\n",
    "my_list=[1,2,3,4,5,6,7,8]\n",
    "even_number,odd_number=sum_of_even_and_odd(my_list)\n",
    "even_sum=sum(even_number)\n",
    "odd_sum=sum(odd_number)\n",
    "print(\"even number are \" , even_number)\n",
    "print(\"odd number are \" , odd_number)\n",
    "print(\"sum of even number are\" , even_sum)\n",
    "print(\"sum of odd number are\" , odd_sum)"
   ]
  },
  {
   "cell_type": "code",
   "execution_count": 3,
   "id": "ec0fdabb-f82f-427b-880c-60d3c8b51376",
   "metadata": {},
   "outputs": [
    {
     "data": {
      "text/plain": [
       "'27. Create a program that generates a list of squares of odd numbers between 1 and 10 using list \\ncomprehension.'"
      ]
     },
     "execution_count": 3,
     "metadata": {},
     "output_type": "execute_result"
    }
   ],
   "source": [
    "'''27. Create a program that generates a list of squares of odd numbers between 1 and 10 using list \n",
    "comprehension.'''"
   ]
  },
  {
   "cell_type": "code",
   "execution_count": 4,
   "id": "92741d46-75f3-4d60-8409-54cfcfa0c845",
   "metadata": {},
   "outputs": [
    {
     "name": "stdout",
     "output_type": "stream",
     "text": [
      "the list of square of odd number are  [1, 9, 25, 49, 81]\n"
     ]
    }
   ],
   "source": [
    "def list_of_odd(n):\n",
    "    odd_list=[x**2 for x in range(1,n+1) if x%2!=0]\n",
    "    return odd_list\n",
    "n=10\n",
    "result=list_of_odd(n)\n",
    "print(\"the list of square of odd number are \" , result)"
   ]
  },
  {
   "cell_type": "code",
   "execution_count": 5,
   "id": "df0205fd-d86e-40b3-99b6-d436751de36c",
   "metadata": {},
   "outputs": [
    {
     "data": {
      "text/plain": [
       "'28. Write a program that combines two lists into a dictionary using list comprehension.'"
      ]
     },
     "execution_count": 5,
     "metadata": {},
     "output_type": "execute_result"
    }
   ],
   "source": [
    "\"28. Write a program that combines two lists into a dictionary using list comprehension.\""
   ]
  },
  {
   "cell_type": "code",
   "execution_count": 6,
   "id": "d93ffc13-69dd-46c5-b421-c0934f7fc005",
   "metadata": {},
   "outputs": [
    {
     "name": "stdout",
     "output_type": "stream",
     "text": [
      "{'name': 'shashi', 'age': 23, 'country': 'BHARAT'}\n"
     ]
    }
   ],
   "source": [
    "keys=[\"name\" ,\"age\" , \"country\"]\n",
    "value=[\"shashi\" , 23 , \"BHARAT\"]\n",
    "combine_dict={key : value for key,value in zip(keys,value)}\n",
    "print(combine_dict)"
   ]
  },
  {
   "cell_type": "code",
   "execution_count": 7,
   "id": "f5b6a972-c75d-4ce3-9c6f-1731785bac57",
   "metadata": {},
   "outputs": [
    {
     "data": {
      "text/plain": [
       "'29. Develop a program that extracts the vowels from a string and stores them in a list using list comprehension.'"
      ]
     },
     "execution_count": 7,
     "metadata": {},
     "output_type": "execute_result"
    }
   ],
   "source": [
    "\"29. Develop a program that extracts the vowels from a string and stores them in a list using list comprehension.\""
   ]
  },
  {
   "cell_type": "code",
   "execution_count": 10,
   "id": "9715f2af-a481-41c1-b79b-f5900aed132b",
   "metadata": {},
   "outputs": [
    {
     "name": "stdout",
     "output_type": "stream",
     "text": [
      "the vowel list of a given string are ['a', 'e', 'i', 'a', 'i']\n"
     ]
    }
   ],
   "source": [
    "string=(\"my name is shashi\")\n",
    "vowel_list=[x for x in string if x in \"aeiou\"]\n",
    "print(\"the vowel list of a given string are\" , vowel_list)"
   ]
  },
  {
   "cell_type": "code",
   "execution_count": 11,
   "id": "5c7b7d3f-d8c2-4488-bf28-b331198e36ba",
   "metadata": {},
   "outputs": [
    {
     "data": {
      "text/plain": [
       "'30. Create a program that removes all non-numeric characters from a list of strings using list comprehension.'"
      ]
     },
     "execution_count": 11,
     "metadata": {},
     "output_type": "execute_result"
    }
   ],
   "source": [
    "\"30. Create a program that removes all non-numeric characters from a list of strings using list comprehension.\""
   ]
  },
  {
   "cell_type": "code",
   "execution_count": 16,
   "id": "732abe4d-9d31-401e-bd07-7177738b15e3",
   "metadata": {},
   "outputs": [
    {
     "name": "stdout",
     "output_type": "stream",
     "text": [
      "non numeric characters are :  ['123', '45', '123', '456']\n"
     ]
    }
   ],
   "source": [
    "def remove_non_numeric(string):\n",
    "    return [\"\".join(char for char in s if char.isnumeric()) for s in string]\n",
    "my_string=[\"abc123\", \"45xyz\", \"1a2b3c\", \"4d5e6f\"]\n",
    "non_numeric_list=remove_non_numeric(my_string)\n",
    "print(\"non numeric characters are : \" , non_numeric_list)"
   ]
  },
  {
   "cell_type": "code",
   "execution_count": 1,
   "id": "7e96101f-05b4-4d13-807c-13ea2823cc7d",
   "metadata": {},
   "outputs": [],
   "source": [
    "#Challenge Level:"
   ]
  },
  {
   "cell_type": "code",
   "execution_count": 2,
   "id": "fafc30bf-61d3-410e-9270-6ff32229b89f",
   "metadata": {},
   "outputs": [
    {
     "data": {
      "text/plain": [
       "'31. Write a program to generate a list of prime numbers using the Sieve of Eratosthenes algorithm and list \\ncomprehension.'"
      ]
     },
     "execution_count": 2,
     "metadata": {},
     "output_type": "execute_result"
    }
   ],
   "source": [
    "\"\"\"31. Write a program to generate a list of prime numbers using the Sieve of Eratosthenes algorithm and list \n",
    "comprehension.\"\"\""
   ]
  },
  {
   "cell_type": "code",
   "execution_count": 1,
   "id": "18f4eb4b-23af-4ae9-a403-b786e9ec19e5",
   "metadata": {},
   "outputs": [
    {
     "name": "stdin",
     "output_type": "stream",
     "text": [
      "Enter the upper limit for prime numbers:  5\n"
     ]
    },
    {
     "name": "stdout",
     "output_type": "stream",
     "text": [
      "Prime numbers up to 5 are: [2, 3, 5]\n"
     ]
    }
   ],
   "source": [
    "def sieve_of_eratosthenes(limit):\n",
    "    primes = [True] * (limit + 1)\n",
    "    primes[0] = primes[1] = False\n",
    "    p = 2\n",
    "    while p * p <= limit:\n",
    "        if primes[p]:\n",
    "            for i in range(p * p, limit + 1, p):\n",
    "                primes[i] = False\n",
    "        p += 1\n",
    "    return [i for i in range(2, limit + 1) if primes[i]]\n",
    "\n",
    "# Example usage:\n",
    "limit = int(input(\"Enter the upper limit for prime numbers: \"))\n",
    "prime_numbers = sieve_of_eratosthenes(limit)\n",
    "print(\"Prime numbers up to\", limit, \"are:\", prime_numbers)\n"
   ]
  },
  {
   "cell_type": "code",
   "execution_count": 2,
   "id": "df9e8f30-a76a-4c70-9d8f-ac07db2bf2c2",
   "metadata": {},
   "outputs": [
    {
     "data": {
      "text/plain": [
       "'32. Create a program that generates a list of all Pythagorean triplets up to a specified limit using list \\ncomprehension.'"
      ]
     },
     "execution_count": 2,
     "metadata": {},
     "output_type": "execute_result"
    }
   ],
   "source": [
    "\"\"\"32. Create a program that generates a list of all Pythagorean triplets up to a specified limit using list \n",
    "comprehension.\"\"\""
   ]
  },
  {
   "cell_type": "code",
   "execution_count": 4,
   "id": "e179fefe-8623-4f0a-9015-02d8133fb9e7",
   "metadata": {},
   "outputs": [
    {
     "name": "stdout",
     "output_type": "stream",
     "text": [
      "the pythagorean tripletes upto given limit 10 are [(3, 4, 5), (6, 8, 10)]\n"
     ]
    }
   ],
   "source": [
    "def generate_pythagorean_triplets(limit):\n",
    "    triplets=[(a,b,c) for a in range(1,limit+1)\n",
    "                      for b in range(a,limit+1)\n",
    "                      for c in range (b,limit+1)\n",
    "                      if a**2+b**2==c**2]\n",
    "    return triplets\n",
    "limit=10\n",
    "result=generate_pythagorean_triplets(limit)\n",
    "print(f\"the pythagorean tripletes upto given limit {limit} are {result}\")"
   ]
  },
  {
   "cell_type": "code",
   "execution_count": 6,
   "id": "0dc38111-e27f-4afd-b995-8eee55de3bed",
   "metadata": {},
   "outputs": [
    {
     "data": {
      "text/plain": [
       "'33. Develop a program that generates a list of all possible combinations of two lists using list comprehension'"
      ]
     },
     "execution_count": 6,
     "metadata": {},
     "output_type": "execute_result"
    }
   ],
   "source": [
    "\"33. Develop a program that generates a list of all possible combinations of two lists using list comprehension\""
   ]
  },
  {
   "cell_type": "code",
   "execution_count": 9,
   "id": "9d192f34-2e34-4f58-9bbd-4d1462582537",
   "metadata": {},
   "outputs": [
    {
     "name": "stdout",
     "output_type": "stream",
     "text": [
      "[(1, 'a'), (1, 'b'), (2, 'a'), (2, 'b'), (3, 'a'), (3, 'b')]\n"
     ]
    }
   ],
   "source": [
    "list1=[1,2,3]\n",
    "list2=['a','b']\n",
    "combination=[(x,y) for x in list1 for y in list2]\n",
    "print(combination)"
   ]
  },
  {
   "cell_type": "code",
   "execution_count": 10,
   "id": "8990b575-cbc4-4a53-b2a9-408e655a561f",
   "metadata": {},
   "outputs": [
    {
     "data": {
      "text/plain": [
       "'34. Write a program that calculates the mean, median, and mode of a list of numbers using list \\ncomprehension.'"
      ]
     },
     "execution_count": 10,
     "metadata": {},
     "output_type": "execute_result"
    }
   ],
   "source": [
    "'''34. Write a program that calculates the mean, median, and mode of a list of numbers using list \n",
    "comprehension.'''"
   ]
  },
  {
   "cell_type": "code",
   "execution_count": 23,
   "id": "23122d4b-c0bc-419f-9fed-b20030679869",
   "metadata": {},
   "outputs": [
    {
     "name": "stdout",
     "output_type": "stream",
     "text": [
      "Mean: 5.076923076923077\n",
      "Median: 5\n",
      "Mode: 4\n"
     ]
    }
   ],
   "source": [
    "from statistics import mean, median , mode\n",
    "numbers=[1,5,7,8,9,4,5,2,3,6,4,8,4]\n",
    "mean_value = sum(numbers)/len(numbers)\n",
    "\n",
    "sorted_number=sorted(numbers)\n",
    "middle = len(sorted_number)//2\n",
    "if len(sorted_number)%2==0:\n",
    "    median_value=(sorted_number[middle-1]+sorted_number[middle])/2\n",
    "else:\n",
    "    median_value=sorted_number[middle]\n",
    "    \n",
    "from collections import Counter\n",
    "count = Counter(numbers)\n",
    "mode_value=[k for k , v in count.items() if v==max(count.values())]\n",
    "\n",
    "print(f\"Mean: {mean_value}\")\n",
    "print(f\"Median: {median_value}\")\n",
    "print(f\"Mode: {', '.join(map(str, mode_value))}\")"
   ]
  },
  {
   "cell_type": "code",
   "execution_count": 24,
   "id": "6f50bb03-5221-4535-81a3-ef7e1888e25f",
   "metadata": {},
   "outputs": [
    {
     "data": {
      "text/plain": [
       "\"35. Create a program that generates Pascal's triangle up to a specified number of rows using list \\ncomprehension.\""
      ]
     },
     "execution_count": 24,
     "metadata": {},
     "output_type": "execute_result"
    }
   ],
   "source": [
    "'''35. Create a program that generates Pascal's triangle up to a specified number of rows using list \n",
    "comprehension.'''"
   ]
  },
  {
   "cell_type": "code",
   "execution_count": 1,
   "id": "199ea506-1848-4ef1-adcc-91d7d068e9dc",
   "metadata": {},
   "outputs": [
    {
     "name": "stdin",
     "output_type": "stream",
     "text": [
      "Enter the number of rows for Pascal's triangle:  5\n"
     ]
    },
    {
     "name": "stdout",
     "output_type": "stream",
     "text": [
      "       1       \n",
      "      1 1      \n",
      "     1 2 1     \n",
      "    1 3 3 1    \n",
      "   1 4 6 4 1   \n"
     ]
    }
   ],
   "source": [
    "def generate_pascals_triangle(n):\n",
    "    if n <= 0:\n",
    "        return []\n",
    "\n",
    "    triangle = [[1]]\n",
    "    for _ in range(1, n):\n",
    "        prev_row = triangle[-1]\n",
    "        new_row = [1] + [prev_row[i] + prev_row[i + 1] for i in range(len(prev_row) - 1)] + [1]\n",
    "        triangle.append(new_row)\n",
    "\n",
    "    return triangle\n",
    "\n",
    "def print_pascals_triangle(triangle):\n",
    "    for row in triangle:\n",
    "        print(\" \".join(map(str, row)).center(len(triangle[-1]) * 3))\n",
    "\n",
    "if __name__ == \"__main__\":\n",
    "    try:\n",
    "        n = int(input(\"Enter the number of rows for Pascal's triangle: \"))\n",
    "        triangle = generate_pascals_triangle(n)\n",
    "        print_pascals_triangle(triangle)\n",
    "    except ValueError:\n",
    "        print(\"Please enter a valid positive integer.\")\n"
   ]
  },
  {
   "cell_type": "code",
   "execution_count": 2,
   "id": "4413f9cf-5668-4db7-82f6-aa4bc72d3149",
   "metadata": {},
   "outputs": [
    {
     "data": {
      "text/plain": [
       "'36. Develop a program that calculates the sum of the digits of a factorial of numbers from 1 to 5 using list \\ncomprehension.'"
      ]
     },
     "execution_count": 2,
     "metadata": {},
     "output_type": "execute_result"
    }
   ],
   "source": [
    "\"\"\"36. Develop a program that calculates the sum of the digits of a factorial of numbers from 1 to 5 using list \n",
    "comprehension.\"\"\""
   ]
  },
  {
   "cell_type": "code",
   "execution_count": 1,
   "id": "459b73df-3411-4146-9478-b70d025b50ca",
   "metadata": {},
   "outputs": [
    {
     "name": "stdout",
     "output_type": "stream",
     "text": [
      "The sum of digits of 1! is 1\n",
      "The sum of digits of 2! is 2\n",
      "The sum of digits of 3! is 6\n",
      "The sum of digits of 4! is 6\n",
      "The sum of digits of 5! is 3\n"
     ]
    }
   ],
   "source": [
    "def factorial(n):\n",
    "    if n==0:\n",
    "        return 1\n",
    "    else:\n",
    "        return n*factorial(n-1)\n",
    "result=[(num , sum(int(digit) for digit in str(factorial(num)))) for num in range(1,6)]\n",
    "for num , digit_sum in result:\n",
    "    print(f\"The sum of digits of {num}! is {digit_sum}\")"
   ]
  },
  {
   "cell_type": "code",
   "execution_count": 2,
   "id": "c3586f84-2947-46db-8b39-904644c93f87",
   "metadata": {},
   "outputs": [
    {
     "data": {
      "text/plain": [
       "'37. Write a program that finds the longest word in a sentence using list comprehension.'"
      ]
     },
     "execution_count": 2,
     "metadata": {},
     "output_type": "execute_result"
    }
   ],
   "source": [
    "'''37. Write a program that finds the longest word in a sentence using list comprehension.'''"
   ]
  },
  {
   "cell_type": "code",
   "execution_count": 5,
   "id": "f2e789e7-4661-49b4-96df-7c9407a07196",
   "metadata": {},
   "outputs": [
    {
     "name": "stdin",
     "output_type": "stream",
     "text": [
      "enter a sentence my name is shashi\n"
     ]
    },
    {
     "name": "stdout",
     "output_type": "stream",
     "text": [
      "the longest word is : shashi\n"
     ]
    }
   ],
   "source": [
    "sentence=input(\"enter a sentence\")\n",
    "words=[word for word in sentence.split()]\n",
    "longest_word=max(words , key=len)\n",
    "print(\"the longest word is :\" , longest_word)"
   ]
  },
  {
   "cell_type": "code",
   "execution_count": 6,
   "id": "a019e578-53ec-4858-b139-9a0a22140ab8",
   "metadata": {},
   "outputs": [
    {
     "data": {
      "text/plain": [
       "'38. Create a program that filters a list of strings to include only those with more than three vowels using list \\ncomprehension.'"
      ]
     },
     "execution_count": 6,
     "metadata": {},
     "output_type": "execute_result"
    }
   ],
   "source": [
    "'''38. Create a program that filters a list of strings to include only those with more than three vowels using list \n",
    "comprehension.'''"
   ]
  },
  {
   "cell_type": "code",
   "execution_count": 6,
   "id": "b71134c2-de29-47b8-a3fa-4a1ad3e7b283",
   "metadata": {},
   "outputs": [
    {
     "name": "stdout",
     "output_type": "stream",
     "text": [
      "string with more than three vowel\n",
      "aioue\n"
     ]
    }
   ],
   "source": [
    "def count_vowel(string):\n",
    "    vowel=\"AIOUEaioue\"\n",
    "    return sum(1 for char in string if char in vowel)\n",
    "string_list = [\"apple\", \"banana\", \"cherry\", \"date\", \"fig\", \"grape\",\"aioue\"]\n",
    "filtered_string=[string for string in string_list if count_vowel(string)>3]\n",
    "print(\"string with more than three vowel\")\n",
    "for string in filtered_string:\n",
    "    print(string)"
   ]
  },
  {
   "cell_type": "code",
   "execution_count": 7,
   "id": "056d47fb-4fcd-4834-9d02-91a9d8ce83a8",
   "metadata": {},
   "outputs": [
    {
     "data": {
      "text/plain": [
       "'39. Develop a program that calculates the sum of the digits of numbers from 1 to 1000 using list \\ncomprehension.'"
      ]
     },
     "execution_count": 7,
     "metadata": {},
     "output_type": "execute_result"
    }
   ],
   "source": [
    "\"\"\"39. Develop a program that calculates the sum of the digits of numbers from 1 to 1000 using list \n",
    "comprehension.\"\"\""
   ]
  },
  {
   "cell_type": "code",
   "execution_count": 11,
   "id": "22cbf854-431b-4ec8-83ae-e96ce978dca1",
   "metadata": {},
   "outputs": [
    {
     "name": "stdout",
     "output_type": "stream",
     "text": [
      " the sum of digits of numbers from 1 to 1000 are :  13501\n"
     ]
    }
   ],
   "source": [
    "def sum_of_digit(numbers):\n",
    "    return sum(int(digit) for digit in str(numbers))\n",
    "sums=[sum_of_digit(numbers) for numbers in range(1,1001)]\n",
    "total_sums=sum(sums)\n",
    "print(\" the sum of digits of numbers from 1 to 1000 are : \" ,total_sums)"
   ]
  },
  {
   "cell_type": "code",
   "execution_count": 12,
   "id": "a5cd23d9-8f69-41ac-938d-b0739d5ce799",
   "metadata": {},
   "outputs": [
    {
     "data": {
      "text/plain": [
       "'40. Write a program that generates a list of prime palindromic numbers using list comprehension.'"
      ]
     },
     "execution_count": 12,
     "metadata": {},
     "output_type": "execute_result"
    }
   ],
   "source": [
    "\"40. Write a program that generates a list of prime palindromic numbers using list comprehension.\""
   ]
  },
  {
   "cell_type": "code",
   "execution_count": 20,
   "id": "ebb8b706-f175-4c6b-a6d8-b9d942fbb30d",
   "metadata": {},
   "outputs": [
    {
     "name": "stdout",
     "output_type": "stream",
     "text": [
      "[2, 3, 5, 7, 11, 101, 131, 151, 181, 191, 313, 353, 373, 383, 727, 757, 787, 797, 919, 929]\n"
     ]
    }
   ],
   "source": [
    "def is_prime(n):\n",
    "    if n < 2:\n",
    "        return False\n",
    "    if n == 2:\n",
    "        return True\n",
    "    if n % 2 == 0:\n",
    "        return False\n",
    "\n",
    "    for i in range(3, int(n**0.5) + 1, 2):\n",
    "        if n % i == 0:\n",
    "            return False\n",
    "    return True\n",
    "\n",
    "prime_palindromic = [n for n in range(1, 1001) if is_prime(n) and str(n) == str(n)[::-1]]\n",
    "print(prime_palindromic)\n"
   ]
  },
  {
   "cell_type": "code",
   "execution_count": null,
   "id": "5d91d53b-55b2-4a9a-8dd7-508d564e792a",
   "metadata": {},
   "outputs": [],
   "source": []
  }
 ],
 "metadata": {
  "kernelspec": {
   "display_name": "Python 3 (ipykernel)",
   "language": "python",
   "name": "python3"
  },
  "language_info": {
   "codemirror_mode": {
    "name": "ipython",
    "version": 3
   },
   "file_extension": ".py",
   "mimetype": "text/x-python",
   "name": "python",
   "nbconvert_exporter": "python",
   "pygments_lexer": "ipython3",
   "version": "3.10.8"
  }
 },
 "nbformat": 4,
 "nbformat_minor": 5
}
